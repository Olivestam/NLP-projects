{
  "cells": [
    {
      "cell_type": "markdown",
      "metadata": {
        "id": "ShcbNzpPrvTk"
      },
      "source": [
        "# L2: Language modelling"
      ]
    },
    {
      "cell_type": "markdown",
      "metadata": {
        "id": "0RprQgvyrvTo"
      },
      "source": [
        "In this lab you will implement and train two neural language models: the fixed-window model mentioned in Lecture&nbsp;2.3, and the recurrent neural network model from Lecture&nbsp;2.5. You will evaluate these models by computing their perplexity on a benchmark dataset."
      ]
    },
    {
      "cell_type": "code",
      "execution_count": null,
      "metadata": {
        "id": "9F72AToorvTp"
      },
      "outputs": [],
      "source": [
        "import torch\n",
        "import numpy as np\n",
        "import torch.nn as nn\n",
        "import torch.optim as optim\n",
        "import torch.nn.functional as F\n",
        "import math\n",
        "from google.colab import drive"
      ]
    },
    {
      "cell_type": "markdown",
      "metadata": {
        "id": "JYH1G011rvTr"
      },
      "source": [
        "For this lab, you should use the GPU if you have one:"
      ]
    },
    {
      "cell_type": "code",
      "execution_count": null,
      "metadata": {
        "colab": {
          "base_uri": "https://localhost:8080/"
        },
        "id": "AA1fiwCbrvTr",
        "outputId": "81cd06e3-df59-4c23-ad82-d419d4c2d317"
      },
      "outputs": [
        {
          "output_type": "stream",
          "name": "stdout",
          "text": [
            "cuda\n"
          ]
        }
      ],
      "source": [
        "device = torch.device('cuda' if torch.cuda.is_available() else 'cpu')\n",
        "print(device)"
      ]
    },
    {
      "cell_type": "code",
      "source": [
        "from google.colab import drive\n",
        "drive.mount('/content/drive')"
      ],
      "metadata": {
        "colab": {
          "base_uri": "https://localhost:8080/"
        },
        "id": "xudBuP6osW1r",
        "outputId": "92150baf-26f6-4966-8a88-17a1b4f9df47"
      },
      "execution_count": null,
      "outputs": [
        {
          "output_type": "stream",
          "name": "stdout",
          "text": [
            "Mounted at /content/drive\n"
          ]
        }
      ]
    },
    {
      "cell_type": "markdown",
      "metadata": {
        "id": "9R4lrT01ArUA"
      },
      "source": [
        "## Data"
      ]
    },
    {
      "cell_type": "markdown",
      "metadata": {
        "id": "2RAEz3GwrvTs"
      },
      "source": [
        "The data for this lab is [WikiText](https://blog.einstein.ai/the-wikitext-long-term-dependency-language-modeling-dataset/), a collection of more than 100 million tokens extracted from the set of &lsquo;Good&rsquo; and &lsquo;Featured&rsquo; articles on Wikipedia. We will use the small version of the dataset, which contains slightly more than 2.5 million tokens.\n",
        "\n",
        "The next cell contains code for an object that will act as a container for the &lsquo;training&rsquo; and the &lsquo;validation&rsquo; section of the data. We fill this container by reading the corresponding text files. The only processing that we do is to whitespace-tokenize, and to replace each newline character with a special token `<eos>` (end-of-sentence)."
      ]
    },
    {
      "cell_type": "code",
      "execution_count": null,
      "metadata": {
        "id": "g3QY8xBprvTt"
      },
      "outputs": [],
      "source": [
        "class WikiText(object):\n",
        "\n",
        "    def __init__(self):\n",
        "        self.vocab = {}\n",
        "        self.train = self.read_data('wiki.train.tokens')\n",
        "        self.valid = self.read_data('wiki.valid.tokens')\n",
        "\n",
        "    def read_data(self, path):\n",
        "        ids = []\n",
        "        with open(path) as source:\n",
        "            for line in source:\n",
        "                for token in line.split() + ['<eos>']:\n",
        "                    if token not in self.vocab:\n",
        "                        self.vocab[token] = len(self.vocab)\n",
        "                    ids.append(self.vocab[token])\n",
        "        return ids"
      ]
    },
    {
      "cell_type": "markdown",
      "metadata": {
        "id": "KnqEinPvrvTu"
      },
      "source": [
        "The cell below loads the data and prints the total number of tokens and the size of the vocabulary."
      ]
    },
    {
      "cell_type": "code",
      "execution_count": null,
      "metadata": {
        "colab": {
          "base_uri": "https://localhost:8080/"
        },
        "id": "3szKS_ipArUK",
        "outputId": "effe9395-5b8c-437a-b14b-866fcfff3144"
      },
      "outputs": [
        {
          "output_type": "stream",
          "name": "stdout",
          "text": [
            "Tokens in train: 2088628\n",
            "Tokens in valid: 217646\n",
            "Vocabulary size: 33278\n"
          ]
        }
      ],
      "source": [
        "wikitext = WikiText()\n",
        "\n",
        "print('Tokens in train:', len(wikitext.train))\n",
        "print('Tokens in valid:', len(wikitext.valid))\n",
        "print('Vocabulary size:', len(wikitext.vocab))"
      ]
    },
    {
      "cell_type": "markdown",
      "metadata": {
        "id": "acEbvPE2ArUi"
      },
      "source": [
        "## Problem 1: Fixed-window neural language model"
      ]
    },
    {
      "cell_type": "markdown",
      "metadata": {
        "id": "_ZCkyT9yArUj"
      },
      "source": [
        "In this section you will implement and train the fixed-window neural language model proposed by [Bengio et al. (2003)](http://www.jmlr.org/papers/volume3/bengio03a/bengio03a.pdf) and introduced in Lecture&nbsp;2.3. Recall that an input to the network takes the form of a vector of $n-1$ integers representing the preceding words. Each integer is mapped to a vector via an embedding layer. (All positions share the same embedding.) The embedding vectors are then concatenated and sent through a two-layer feed-forward network with a non-linearity in the form of a rectified linear unit (ReLU) and a final softmax layer."
      ]
    },
    {
      "cell_type": "markdown",
      "metadata": {
        "id": "2WgdK-WFrvTw"
      },
      "source": [
        "### Problem 1.1: Vectorize the data"
      ]
    },
    {
      "cell_type": "markdown",
      "metadata": {
        "id": "LhcJNADbrvTw"
      },
      "source": [
        "Your first task is to write code for transforming the data in the WikiText container into a vectorized form that can be fed to the fixed-window model. Complete the skeleton code in the cell below:"
      ]
    },
    {
      "cell_type": "code",
      "execution_count": null,
      "metadata": {
        "id": "Slq79z3xrvTw"
      },
      "outputs": [],
      "source": [
        "def vectorize_fixed_window(wikitext_data, n):\n",
        "    valid_x = [wikitext_data[i:i+n-1] for i in range(len(wikitext_data)) if i < len(wikitext_data)-n]\n",
        "    valid_y = [wikitext_data[i+n-1] for i in range(len(wikitext_data)) if i < len(wikitext_data)-n]\n",
        "\n",
        "    valid_x = torch.tensor(valid_x)\n",
        "    valid_y = torch.tensor(valid_y)\n",
        "    return valid_x, valid_y"
      ]
    },
    {
      "cell_type": "markdown",
      "metadata": {
        "id": "GUc_Fy5lrvTw"
      },
      "source": [
        "Your function should meet the following specification:\n",
        "\n",
        "**vectorize_fixed_window** (*wikitext_data*, *n*)\n",
        "\n",
        "> Transforms WikiText data (a list of word ids) into a pair of tensors $\\mathbf{X}$, $\\mathbf{y}$ that can be used to train the fixed-window model. Let $N$ be the total number of $n$-grams from the token list; then $\\mathbf{X}$ is a matrix with shape $(N, n-1)$ and $\\mathbf{y}$ is a vector with length $N$.\n",
        "\n",
        "⚠️ Your function should be able to handle arbitrary values of $n \\geq 1$."
      ]
    },
    {
      "cell_type": "markdown",
      "metadata": {
        "id": "YePKbQaFrvTx"
      },
      "source": [
        "#### 🤞 Test your code\n",
        "\n",
        "Test your implementation by running the code in the next cell. Does the output match your expectation?"
      ]
    },
    {
      "cell_type": "code",
      "execution_count": null,
      "metadata": {
        "colab": {
          "base_uri": "https://localhost:8080/"
        },
        "id": "jBc3NO1OrvTx",
        "outputId": "e819fca3-171c-4185-8720-8aacb5d56b10"
      },
      "outputs": [
        {
          "output_type": "stream",
          "name": "stdout",
          "text": [
            "torch.Size([2088625, 2])\n"
          ]
        }
      ],
      "source": [
        "valid_x, valid_y = vectorize_fixed_window(wikitext.train, 3)\n",
        "print(valid_x.size())"
      ]
    },
    {
      "cell_type": "markdown",
      "metadata": {
        "id": "C7JKbl_XrvTx"
      },
      "source": [
        "### Problem 1.2: Implement the model"
      ]
    },
    {
      "cell_type": "markdown",
      "metadata": {
        "id": "KSo18HE-rvTy"
      },
      "source": [
        "Your next task is to implement the fixed-window model based on the graphical specification given in the lecture."
      ]
    },
    {
      "cell_type": "code",
      "execution_count": null,
      "metadata": {
        "id": "GopoLsigrvTy",
        "colab": {
          "base_uri": "https://localhost:8080/",
          "height": 235
        },
        "outputId": "3bf9c11d-4e78-4033-e08f-c83c94f982ef"
      },
      "outputs": [
        {
          "output_type": "error",
          "ename": "NameError",
          "evalue": "ignored",
          "traceback": [
            "\u001b[0;31m---------------------------------------------------------------------------\u001b[0m",
            "\u001b[0;31mNameError\u001b[0m                                 Traceback (most recent call last)",
            "\u001b[0;32m<ipython-input-1-41a14f72bf53>\u001b[0m in \u001b[0;36m<module>\u001b[0;34m\u001b[0m\n\u001b[0;32m----> 1\u001b[0;31m \u001b[0;32mclass\u001b[0m \u001b[0mFixedWindowModel\u001b[0m\u001b[0;34m(\u001b[0m\u001b[0mtorch\u001b[0m\u001b[0;34m.\u001b[0m\u001b[0mnn\u001b[0m\u001b[0;34m.\u001b[0m\u001b[0mModule\u001b[0m\u001b[0;34m)\u001b[0m\u001b[0;34m:\u001b[0m\u001b[0;34m\u001b[0m\u001b[0;34m\u001b[0m\u001b[0m\n\u001b[0m\u001b[1;32m      2\u001b[0m \u001b[0;34m\u001b[0m\u001b[0m\n\u001b[1;32m      3\u001b[0m     \u001b[0;32mdef\u001b[0m \u001b[0m__init__\u001b[0m\u001b[0;34m(\u001b[0m\u001b[0mself\u001b[0m\u001b[0;34m,\u001b[0m \u001b[0mn\u001b[0m\u001b[0;34m,\u001b[0m \u001b[0mn_words\u001b[0m\u001b[0;34m,\u001b[0m \u001b[0membedding_dim\u001b[0m\u001b[0;34m=\u001b[0m\u001b[0;36m50\u001b[0m\u001b[0;34m,\u001b[0m \u001b[0mhidden_dim\u001b[0m\u001b[0;34m=\u001b[0m\u001b[0;36m50\u001b[0m\u001b[0;34m)\u001b[0m\u001b[0;34m:\u001b[0m\u001b[0;34m\u001b[0m\u001b[0;34m\u001b[0m\u001b[0m\n\u001b[1;32m      4\u001b[0m         \u001b[0msuper\u001b[0m\u001b[0;34m(\u001b[0m\u001b[0;34m)\u001b[0m\u001b[0;34m.\u001b[0m\u001b[0m__init__\u001b[0m\u001b[0;34m(\u001b[0m\u001b[0;34m)\u001b[0m\u001b[0;34m\u001b[0m\u001b[0;34m\u001b[0m\u001b[0m\n\u001b[1;32m      5\u001b[0m         \u001b[0mself\u001b[0m\u001b[0;34m.\u001b[0m\u001b[0membedding\u001b[0m \u001b[0;34m=\u001b[0m \u001b[0mnn\u001b[0m\u001b[0;34m.\u001b[0m\u001b[0mEmbedding\u001b[0m\u001b[0;34m(\u001b[0m\u001b[0mn_words\u001b[0m\u001b[0;34m,\u001b[0m \u001b[0membedding_dim\u001b[0m\u001b[0;34m,\u001b[0m \u001b[0mdevice\u001b[0m\u001b[0;34m=\u001b[0m\u001b[0mdevice\u001b[0m\u001b[0;34m)\u001b[0m\u001b[0;34m\u001b[0m\u001b[0;34m\u001b[0m\u001b[0m\n",
            "\u001b[0;31mNameError\u001b[0m: name 'torch' is not defined"
          ]
        }
      ],
      "source": [
        "class FixedWindowModel(torch.nn.Module):\n",
        "\n",
        "    def __init__(self, n, n_words, embedding_dim=50, hidden_dim=50):\n",
        "        super().__init__()\n",
        "        self.embedding = nn.Embedding(n_words, embedding_dim, device=device)\n",
        "       # self.embedding.weight.data.uniform_(0.0, 0.0)\n",
        "\n",
        "        self.embedding_dim = embedding_dim\n",
        "        self.n = n\n",
        "        self.hiddenLinear = nn.Linear((n-1) * embedding_dim, hidden_dim, bias = True, device=device)\n",
        "        self.softmaxLinnear = nn.Linear(hidden_dim, n_words, bias = True, device=device)\n",
        "\n",
        "    def forward(self, x):\n",
        "        #Create embedding layer\n",
        "        x = self.embedding(x)\n",
        "        #Concatinate vector\n",
        "        x = x.view(-1, (self.n-1) * self.embedding_dim)\n",
        "        print(x.shape,(self.n-1) * self.embedding_dim )\n",
        "        x = self.hiddenLinear(x)\n",
        "        x = torch.relu(x)\n",
        "        x = self.softmaxLinnear(x)\n",
        "        return x"
      ]
    },
    {
      "cell_type": "markdown",
      "metadata": {
        "id": "nuVd27NxrvTy"
      },
      "source": [
        "Here is the specification of the two methods:\n",
        "\n",
        "**__init__** (*self*, *n*, *n_words*, *embedding_dim*=50, *hidden_dim*=50)\n",
        "\n",
        "> Creates a new fixed-window neural language model. The argument *n* specifies the model&rsquo;s $n$-gram order. The argument *n_words* is the number of words in the vocabulary. The arguments *embedding_dim* and *hidden_dim* specify the dimensionalities of the embedding layer and the hidden layer of the feedforward network, respectively; their default value is 50.\n",
        "\n",
        "**forward** (*self*, *x*)\n",
        "\n",
        "> Computes the network output on an input batch *x*. The shape of *x* is $(B, n-1)$, where $B$ is the batch size. The output of the forward pass is a tensor of shape $(B, V)$ where $V$ is the number of words in the vocabulary.\n",
        "\n",
        "**Hint:** The most efficient way to implement the vector concatenation in this model is to use the [`view()`](https://pytorch.org/docs/stable/tensors.html#torch.Tensor.view) method.\n",
        "\n",
        "#### 🤞 Test your code\n",
        "\n",
        "Test your code by instantiating the model and feeding it a batch of examples from the training data."
      ]
    },
    {
      "cell_type": "markdown",
      "metadata": {
        "id": "6deGZqDBrvTy"
      },
      "source": [
        "### Problem 1.3: Train the model"
      ]
    },
    {
      "cell_type": "markdown",
      "metadata": {
        "id": "l2UmHJf1rvTy"
      },
      "source": [
        "Your final task is to write code to train the fixed-window model using minibatch gradient descent and the cross-entropy loss function.\n",
        "\n",
        "For your convenience, the following cell contains a utility function that randomly samples minibatches of a specified size from a pair of tensors:"
      ]
    },
    {
      "cell_type": "code",
      "execution_count": null,
      "metadata": {
        "id": "JVoQqzueArUv"
      },
      "outputs": [],
      "source": [
        "def batchify(x, y, batch_size):\n",
        "    random_indices = torch.randperm(len(x))\n",
        "    for i in range(0, len(x) - batch_size + 1, batch_size):\n",
        "        indices = random_indices[i:i+batch_size]\n",
        "        yield x[indices].to(device), y[indices].to(device)\n",
        "    remainder = len(x) % batch_size\n",
        "    if remainder:\n",
        "        indices = random_indices[-remainder:]\n",
        "        yield x[indices].to(device), y[indices].to(device)\n",
        "\n",
        "def countPerplexit(valid_x, valid_y,n, model,batch_size):\n",
        "  final_list = []\n",
        "  for x,y in batchify(valid_x, valid_y, batch_size):\n",
        "    with torch.no_grad():\n",
        "      output = model.forward(x)\n",
        "      loss = F.cross_entropy(output,y)\n",
        "      perplexity = torch.exp(loss)\n",
        "      final_list.append(perplexity)\n",
        "  meanPerplexity = sum(final_list)/len(final_list)\n",
        "  return meanPerplexity\n",
        "\n",
        ""
      ]
    },
    {
      "cell_type": "markdown",
      "metadata": {
        "id": "OCHbOVRmrvTz"
      },
      "source": [
        "What remains to be done is the implementation of the training loop. This should be a straightforward generalization of the training loops that you have seen so far. Complete the skeleton code in the cell below:"
      ]
    },
    {
      "cell_type": "code",
      "execution_count": null,
      "metadata": {
        "colab": {
          "base_uri": "https://localhost:8080/"
        },
        "id": "rDEOdhScrvTz",
        "outputId": "2cb93623-d45d-42b4-de3c-3e5b3410813c"
      },
      "outputs": [
        {
          "output_type": "stream",
          "name": "stdout",
          "text": [
            "tensor(317.8192, device='cuda:0')\n"
          ]
        }
      ],
      "source": [
        "def train_fixed_window(n, n_epochs=1, batch_size=3200, lr=1e-2):\n",
        "    # Initialize the model\n",
        "    model = FixedWindowModel(n, n_words = len(wikitext.vocab), embedding_dim=50, hidden_dim=50)\n",
        "\n",
        "    # Initialize the optimizer. Here we use Adam rather than plain SGD\n",
        "    optimizer = optim.Adam(model.parameters(), lr=lr)\n",
        "    valid_x, valid_y = vectorize_fixed_window(wikitext.train, n)\n",
        "\n",
        "    for epoch in range(n_epochs):\n",
        "        model.train()\n",
        "        for x,y in batchify(valid_x, valid_y, batch_size):\n",
        "            optimizer.zero_grad()\n",
        "            output = model.forward(x)\n",
        "            loss = F.cross_entropy(output,y)\n",
        "            loss.backward()\n",
        "            optimizer.step()\n",
        "        valid_x, valid_y = vectorize_fixed_window(wikitext.valid, n)\n",
        "        perplexity = countPerplexit(valid_x, valid_y,n,model,batch_size)\n",
        "        print(perplexity)\n",
        "\n",
        "    return model\n",
        "\n",
        "model_fixed_window = train_fixed_window(2, n_epochs=1)"
      ]
    },
    {
      "cell_type": "markdown",
      "metadata": {
        "id": "SeakBmxRrvTz"
      },
      "source": [
        "Here is the specification of the training function:\n",
        "\n",
        "**train_fixed_window** (*n*, *n_epochs* = 1, *batch_size* = 3200, *lr* = 0.01)\n",
        "\n",
        "> Trains a fixed-window neural language model of order *n* using minibatch gradient descent and returns it. The parameters *n_epochs* and *batch_size* specify the number of training epochs and the minibatch size, respectively. Training uses the cross-entropy loss function and the [Adam optimizer](https://pytorch.org/docs/stable/optim.html#torch.optim.Adam) with learning rate *lr*. After each epoch, prints the perplexity of the model on the validation data."
      ]
    },
    {
      "cell_type": "markdown",
      "metadata": {
        "id": "Zu6T-dyDrvTz"
      },
      "source": [
        "The code in the cell below trains a bigram model."
      ]
    },
    {
      "cell_type": "code",
      "execution_count": null,
      "metadata": {
        "colab": {
          "base_uri": "https://localhost:8080/"
        },
        "id": "sBhTCjChArU7",
        "outputId": "85840b16-8246-4b68-a8a9-907e3b682044"
      },
      "outputs": [
        {
          "output_type": "stream",
          "name": "stdout",
          "text": [
            "tensor(330.6390, device='cuda:0')\n"
          ]
        }
      ],
      "source": [
        "model_fixed_window = train_fixed_window(2, n_epochs=1)"
      ]
    },
    {
      "cell_type": "markdown",
      "metadata": {
        "id": "zr6Icm39rvT0"
      },
      "source": [
        "**⚠️ Your submitted notebook must contain output demonstrating a validation perplexity of at most 350.**\n",
        "\n",
        "**Hint:** Computing the validation perplexity in one go may exhaust your computer&rsquo;s memory and/or take a lot of time. If you run into this problem, break the computation down into minibatches and take the average perplexity."
      ]
    },
    {
      "cell_type": "markdown",
      "metadata": {
        "id": "czBTDTLirvT0"
      },
      "source": [
        "#### 🤞 Test your code\n",
        "\n",
        "To see whether your network is learning something, print the loss and/or the perplexity on the training data. If the two values are not decreasing over time, try to find the problem before wasting time (and energy) on useless training.\n",
        "\n",
        "Training and even evaluation will take some time – on a CPU, you should expect several minutes per epoch, depending on hardware. To speed things up, you can train using a GPU; our reference implementation runs in less than 30 seconds per epoch on [Colab](http://colab.research.google.com)."
      ]
    },
    {
      "cell_type": "markdown",
      "metadata": {
        "id": "-d8PFZucArU8"
      },
      "source": [
        "## Problem 2: Recurrent neural network language model"
      ]
    },
    {
      "cell_type": "markdown",
      "metadata": {
        "id": "te4hSBQzrvT0"
      },
      "source": [
        "In this section you will implement the recurrent neural network language model that was presented in Lecture&nbsp;2.5. Recall that an input to the network is a vector of word ids. Each integer is mapped to an embedding vector. The sequence of embedded vectors is then fed into an unrolled LSTM. At each position $i$ in the sequence, the hidden state of the LSTM at that position is sent through a linear transformation into a final softmax layer, from which we read off the index of the word at position $i+1$. In theory, the input vector could represent the complete training data or at least a complete sentence; for practical reasons, however, we will truncate the input to some fixed value *bptt_len*, the **backpropagation-through-time horizon**."
      ]
    },
    {
      "cell_type": "markdown",
      "metadata": {
        "id": "XimBEYcwrvT0"
      },
      "source": [
        "### Problem 2.1: Vectorize the data"
      ]
    },
    {
      "cell_type": "markdown",
      "metadata": {
        "id": "3rckXhkxrvT0"
      },
      "source": [
        "As in the previous problem, your first task is to transform the data in the WikiText container into a vectorized form that can be fed to the model."
      ]
    },
    {
      "cell_type": "code",
      "execution_count": null,
      "metadata": {
        "id": "FlYKI3-srvT0"
      },
      "outputs": [],
      "source": [
        "def vectorize_rnn(wikitext_data, bptt_len):\n",
        "    wikitext_data = torch.tensor(wikitext_data, device=device)\n",
        "\n",
        "    valid_x = torch.zeros((math.floor(len(wikitext_data)/bptt_len), bptt_len), device=device)\n",
        "    valid_y = torch.zeros((math.floor(len(wikitext_data)/bptt_len), bptt_len), device=device)\n",
        "    index = 0\n",
        "    for i in range(0,len(wikitext_data),bptt_len):\n",
        "      if len(wikitext_data[i:-1]) < bptt_len:\n",
        "        break\n",
        "      else:\n",
        "        valid_x[index] =  wikitext_data[i:i+bptt_len]\n",
        "        valid_y[index] = wikitext_data[i+1:i+bptt_len+1]\n",
        "        index += 1\n",
        "    valid_x = valid_x.long()\n",
        "    valid_y = valid_y.long()\n",
        "    return valid_x, valid_y\n"
      ]
    },
    {
      "cell_type": "markdown",
      "metadata": {
        "id": "AGUCV9WSrvT1"
      },
      "source": [
        "Your function should meet the following specification:\n",
        "\n",
        "**vectorize_rnn** (*wikitext_data*, *bptt_len*)\n",
        "\n",
        "> Transforms a list of token indexes into a pair of tensors $\\mathbf{X}$, $\\mathbf{Y}$ that can be used to train the recurrent neural language model. The rows of both tensors represent contiguous subsequences of token indexes of length *bptt_len*. Compared to the sequences in $\\mathbf{X}$, the corresponding sequences in $\\mathbf{Y}$ are shifted one position to the right. More precisely, if the $i$th row of $\\mathbf{X}$ is the sequence that starts at token position $j$, then the same row of $\\mathbf{Y}$ is the sequence that starts at position $j+1$."
      ]
    },
    {
      "cell_type": "markdown",
      "metadata": {
        "id": "jMBFsGknrvT1"
      },
      "source": [
        "#### 🤞 Test your code\n",
        "\n",
        "Test your implementation by running the following code:"
      ]
    },
    {
      "cell_type": "code",
      "execution_count": null,
      "metadata": {
        "colab": {
          "base_uri": "https://localhost:8080/"
        },
        "id": "J_M4rtT_rvT1",
        "outputId": "1470ed9b-2981-4649-f2e6-bddb53aa8a4b"
      },
      "outputs": [
        {
          "output_type": "stream",
          "name": "stdout",
          "text": [
            "torch.Size([65269, 32]) torch.Size([65269, 32]) 2088628 32\n"
          ]
        }
      ],
      "source": [
        "valid_x, valid_y = vectorize_rnn(wikitext.train, 32)\n"
      ]
    },
    {
      "cell_type": "markdown",
      "metadata": {
        "id": "EyU3t_QdrvT1"
      },
      "source": [
        "### Problem 2.2: Implement the model"
      ]
    },
    {
      "cell_type": "markdown",
      "metadata": {
        "id": "VfXCzdCnrvT1"
      },
      "source": [
        "Your next task is to implement the recurrent neural network model based on the graphical specification given in the lecture."
      ]
    },
    {
      "cell_type": "code",
      "execution_count": null,
      "metadata": {
        "id": "BgPraH_orvT1"
      },
      "outputs": [],
      "source": [
        "class RNNModel(nn.Module):\n",
        "\n",
        "    def __init__(self, n_words, embedding_dim=50, hidden_dim=50):\n",
        "        super().__init__()\n",
        "        self.embedding = nn.Embedding(n_words, embedding_dim, device=device)\n",
        "        self.LSTM = nn.LSTM(embedding_dim, hidden_dim, bias = True, device=device, batch_first=True)\n",
        "        self.linear = nn.Linear(hidden_dim, n_words, device=device)\n",
        "\n",
        "    def forward(self, x):\n",
        "        x = self.embedding(x)\n",
        "        output, (h_n, c_n) = self.LSTM(x)\n",
        "        x = self.linear(output)\n",
        "\n",
        "        return x\n"
      ]
    },
    {
      "cell_type": "markdown",
      "metadata": {
        "id": "l7taVJS0rvT1"
      },
      "source": [
        "Your implementation should follow this specification:\n",
        "\n",
        "**__init__** (*self*, *n_words*, *embedding_dim* = 50, *hidden_dim* = 50)\n",
        "\n",
        "> Creates a new recurrent neural network language model. The argument *n_words* is the number of words in the vocabulary. The arguments *embedding_dim* and *hidden_dim* specify the dimensionalities of the embedding layer and the LSTM hidden layer, respectively; their default value is 50.\n",
        "\n",
        "**forward** (*self*, *x*)\n",
        "\n",
        "> Computes the network output on an input batch *x*. The shape of *x* is $(B, H)$, where $B$ is the batch size and $H$ is the length of each input sequence. The shape of the output tensor is $(B, H, V)$, where $V$ is the size of the vocabulary."
      ]
    },
    {
      "cell_type": "markdown",
      "metadata": {
        "id": "P17bmPi7rvT2"
      },
      "source": [
        "#### 🤞 Test your code\n",
        "\n",
        "Test your code by instantiating the model and feeding it a batch of examples from the training data."
      ]
    },
    {
      "cell_type": "markdown",
      "metadata": {
        "id": "VkEugn9ZrvT2"
      },
      "source": [
        "### Problem 2.3: Train the model"
      ]
    },
    {
      "cell_type": "markdown",
      "metadata": {
        "id": "9JJ4aRqFrvT2"
      },
      "source": [
        "The training loop for the recurrent neural network model is essentially identical to the loop that you wrote for the feed-forward model. The only thing to note is that the cross-entropy loss function expects its input to be a two-dimensional tensor; you will therefore have to re-shape the output tensor from the LSTM as well as the gold-standard output tensor in a suitable way. The most efficient way to do so is to use the [`view()`](https://pytorch.org/docs/stable/tensors.html#torch.Tensor.view) method."
      ]
    },
    {
      "cell_type": "code",
      "execution_count": null,
      "metadata": {
        "id": "Tm5JFeiHrvT2"
      },
      "outputs": [],
      "source": [
        "  def countPerplexitRNN(valid_x, valid_y, model, batch_size):\n",
        "    final_list = []\n",
        "    index=0\n",
        "    for x,y in batchify(valid_x, valid_y, batch_size):\n",
        "      with torch.no_grad():\n",
        "        output = model.forward(x)\n",
        "        output = output.view(-1, len(wikitext.vocab))\n",
        "        y = y.view(-1)\n",
        "        loss = F.cross_entropy(output,y)\n",
        "        perplexity = torch.exp(loss)\n",
        "        final_list.append(perplexity)\n",
        "    meanPerplexity = sum(final_list)/len(final_list)\n",
        "    return meanPerplexity\n",
        "\n",
        "\n",
        "  def train_rnn(n_epochs=1, batch_size=100, bptt_len=32, lr=0.01):\n",
        "      model = RNNModel(len(wikitext.vocab))\n",
        "      #should be wikitext.train\n",
        "      train_x, train_y = vectorize_rnn(wikitext.train, bptt_len)\n",
        "\n",
        "      optimizer = optim.Adam(model.parameters(), lr=lr)\n",
        "      for epoch in range(n_epochs):\n",
        "          model.train()\n",
        "          for x,y in batchify(train_x, train_y, batch_size):\n",
        "              optimizer.zero_grad()\n",
        "              output = model.forward(x)\n",
        "              output = output.view(-1, len(wikitext.vocab))\n",
        "              y = y.view(-1)\n",
        "              loss = F.cross_entropy(output,y)\n",
        "              loss.backward()\n",
        "              optimizer.step()\n",
        "\n",
        "          # Should be wikitext.valid\n",
        "          valid_x, valid_y = vectorize_rnn(wikitext.valid, bptt_len)\n",
        "          perplexity = countPerplexitRNN(valid_x, valid_y,model,batch_size)\n",
        "          print(perplexity)\n",
        "\n",
        "      return model\n",
        "\n"
      ]
    },
    {
      "cell_type": "markdown",
      "metadata": {
        "id": "9GuxPMFhrvT2"
      },
      "source": [
        "Here is the specification of the training function:\n",
        "\n",
        "**train_rnn** (*n_epochs* = 1, *batch_size* = 100, *bptt_len* = 32, *lr* = 0.01)\n",
        "\n",
        "> Trains a recurrent neural network language model on the WikiText data using minibatch gradient descent and returns it. The parameters *n_epochs* and *batch_size* specify the number of training epochs and the minibatch size, respectively. The parameter *bptt_len* specifies the length of the backpropagation-through-time horizon, that is, the length of the input and output sequences. Training uses the cross-entropy loss function and the [Adam optimizer](https://pytorch.org/docs/stable/optim.html#torch.optim.Adam) with learning rate *lr*. After each epoch, prints the perplexity of the model on the validation data."
      ]
    },
    {
      "cell_type": "markdown",
      "metadata": {
        "id": "8H_chqm0rvT2"
      },
      "source": [
        "Evaluate your model by running the following code cell:"
      ]
    },
    {
      "cell_type": "code",
      "execution_count": null,
      "metadata": {
        "id": "bfhQ7Uy6ArVD",
        "colab": {
          "base_uri": "https://localhost:8080/"
        },
        "outputId": "3359e008-3981-43dd-b4fb-5515938761c8"
      },
      "outputs": [
        {
          "output_type": "stream",
          "name": "stdout",
          "text": [
            "tensor(310.4526, device='cuda:0')\n"
          ]
        }
      ],
      "source": [
        "model_rnn = train_rnn(n_epochs=1, batch_size=100)\n",
        "#model = RNNModel(len(wikitext.vocab))\n",
        "#bptt_len=32\n",
        "#batch_size=100\n",
        "#valid_x, valid_y = vectorize_rnn(wikitext.valid, bptt_len)\n",
        "#perplexity = countPerplexitRNN(valid_x, valid_y,model,batch_size)\n",
        "#print(perplexity)"
      ]
    },
    {
      "cell_type": "markdown",
      "metadata": {
        "id": "-mMa7gxHrvT3"
      },
      "source": [
        "**⚠️ Your submitted notebook must contain output demonstrating a validation perplexity of at most 310.**"
      ]
    },
    {
      "cell_type": "markdown",
      "metadata": {
        "id": "VuIMzlbMArTj"
      },
      "source": [
        "## Problem 3: Parameter initialization (reflection)"
      ]
    },
    {
      "cell_type": "markdown",
      "metadata": {
        "id": "ByDNZtbXrvT3"
      },
      "source": [
        "Since the error surfaces that gradient search explores when training neural networks can be very complex, it is important to choose &lsquo;good&rsquo; initial values for the parameters. In PyTorch, the weights of the embedding layer are initialized by sampling from the standard normal distribution $\\mathcal{N}(0, 1)$. Test how changing the standard deviation and/or the distribution affects the perplexity of your feed-forward language model. Write a short report about your experience (ca. 150 words). Use the following prompts:\n",
        "\n",
        "* What different settings for the initialization did you try? What results did you get?\n",
        "* How can you choose a good initialization strategy?\n",
        "* What did you learn? How, exactly, did you learn it? Why does this learning matter?"
      ]
    },
    {
      "cell_type": "markdown",
      "source": [
        "For the Fixed window model and RNN we tested 7 different settings and got the following results."
      ],
      "metadata": {
        "id": "1-57bq14uF60"
      }
    },
    {
      "cell_type": "markdown",
      "source": [
        "Fixed_window \\\\\n",
        "Without changing the weights, 344 \\\\\n",
        "[0.0;0.0], 317 \\\\\n",
        "[0;.2.0],  330 \\\\\n",
        "[1.0;.2.0], 337 \\\\\n",
        "[-0.5;0.5],  317 \\\\\n",
        "[-1.0;1.0],  326 \\\\\n",
        "[0.0;50.0], 1046 \\\\\n",
        "[0;.100.0],  960 \\\\\n",
        "\n",
        "---\n",
        "Rnn  \\\\\n",
        "Without changing the weights, 301 \\\\\n",
        "[0.0;0.0], 310 \\\\\n",
        "[0;.2.0],  560 \\\\\n",
        "[1.0;.2.0], 697 \\\\\n",
        "[-0.5;0.5],  299 \\\\\n",
        "[-1.0;1.0],  299 \\\\\n",
        "[0.0;50.0], 1063 \\\\\n",
        "[0;.100.0],  1039 \\\\\n",
        "\n"
      ],
      "metadata": {
        "id": "TLAi6o600DQM"
      }
    },
    {
      "cell_type": "markdown",
      "source": [
        "What we could see that for both models it was a better choice of sampling with smaller numbers. While for high weights the perplexity also got really high."
      ],
      "metadata": {
        "id": "FfQ9WiFJ0bDc"
      }
    },
    {
      "cell_type": "markdown",
      "source": [
        "In this lab we have got a deeper understanding about how the training the model works, this was learned by reading more about it and also implementing it several times."
      ],
      "metadata": {
        "id": "4foI8KGpGgNd"
      }
    }
  ],
  "metadata": {
    "accelerator": "GPU",
    "colab": {
      "provenance": []
    },
    "kernelspec": {
      "display_name": "Python 3 (ipykernel)",
      "language": "python",
      "name": "python3"
    },
    "language_info": {
      "codemirror_mode": {
        "name": "ipython",
        "version": 3
      },
      "file_extension": ".py",
      "mimetype": "text/x-python",
      "name": "python",
      "nbconvert_exporter": "python",
      "pygments_lexer": "ipython3",
      "version": "3.10.4"
    },
    "gpuClass": "standard"
  },
  "nbformat": 4,
  "nbformat_minor": 0
}