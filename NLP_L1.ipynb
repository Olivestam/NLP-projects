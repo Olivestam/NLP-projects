{
  "cells": [
    {
      "cell_type": "markdown",
      "metadata": {
        "id": "aLKyNL9suDka"
      },
      "source": [
        "# L1: Word representations"
      ]
    },
    {
      "cell_type": "markdown",
      "metadata": {
        "id": "77ej9ePPuDkd"
      },
      "source": [
        "In this lab you will implement the **skip-gram model with negative sampling (SGNS)** from Lecture&nbsp;1.4, and use it to train word embeddings on the text of the [Simple English Wikipedia](https://simple.wikipedia.org/wiki/Main_Page).\n",
        "\n",
        "⚠️ The dataset for this lab contains 18M tokens. This is very little as far as word embedding datasets are concerned – for example, the original word2vec model was pre-trained on 100B tokens. In spite of this, you will need to think about efficiency when processing the data and training your models. In particular, wherever possible you should use iterators rather than lists, and vectorize operations (using [NumPy](https://numpy.org) or [PyTorch](https://pytorch.org)) as much as possible."
      ]
    },
    {
      "cell_type": "markdown",
      "metadata": {
        "id": "Zl1JD6thuDkf"
      },
      "source": [
        "## Load the data"
      ]
    },
    {
      "cell_type": "markdown",
      "metadata": {
        "id": "mghcIF9PuDkf"
      },
      "source": [
        "The data for this lab comes as a bz2-compressed plain text file. It consists of 1,163,769 sentences, with one sentence per line and tokens separated by spaces. The cell below contains a wrapper class `SimpleWikiDataset` that can be used to iterate over the sentences (lines) in the text file. On the Python side of things, each sentence is represented as a list of tokens (strings)."
      ]
    },
    {
      "cell_type": "code",
      "execution_count": null,
      "metadata": {
        "id": "_VLBiD3-uDkg"
      },
      "outputs": [],
      "source": [
        "import bz2\n",
        "import torch\n",
        "\n",
        "class SimpleWikiDataset():\n",
        "\n",
        "    def __init__(self, max_sentences=None):\n",
        "        self.max_sentences = max_sentences\n",
        "\n",
        "    def __iter__(self):\n",
        "        with bz2.open('simplewiki.txt.bz2', 'rt', encoding=\"utf8\") as sentences:\n",
        "            for i, sentence in enumerate(sentences):\n",
        "                if self.max_sentences and i >= self.max_sentences:\n",
        "                    break\n",
        "                yield sentence.split()"
      ]
    },
    {
      "cell_type": "markdown",
      "metadata": {
        "id": "o2JsNdTPuDkh"
      },
      "source": [
        "Using this class, we define two variants of the dataset: the full dataset and a minimal version with the first 1% of the sentences in the full dataset. The latter will be useful to test code without running it on the full dataset."
      ]
    },
    {
      "cell_type": "markdown",
      "metadata": {
        "id": "aV6KppbYuDkh"
      },
      "source": [
        "The next code cell defines a generator function that allows you to iterate over all tokens in a dataset:"
      ]
    },
    {
      "cell_type": "code",
      "execution_count": null,
      "metadata": {
        "id": "TMRmeVC9uDki"
      },
      "outputs": [],
      "source": [
        "device = torch.device('cuda' if torch.cuda.is_available() else 'cpu')\n",
        "# Dataset with all sentences (N = 1,163,769)\n",
        "full_dataset = SimpleWikiDataset()\n",
        "\n",
        "# Minimal dataset\n",
        "mini_dataset = SimpleWikiDataset(max_sentences=11638)"
      ]
    },
    {
      "cell_type": "code",
      "execution_count": null,
      "metadata": {
        "id": "pY-oVfqnuDki"
      },
      "outputs": [],
      "source": [
        "def tokens(sentences):\n",
        "    for sentence in sentences:\n",
        "        for token in sentence:\n",
        "            yield token"
      ]
    },
    {
      "cell_type": "markdown",
      "metadata": {
        "id": "xZ0GPycAuDki"
      },
      "source": [
        "To illustrate how to use this function, here is code that prints the number of tokens in the full dataset:"
      ]
    },
    {
      "cell_type": "code",
      "execution_count": null,
      "metadata": {
        "colab": {
          "base_uri": "https://localhost:8080/"
        },
        "id": "KOH6tDZ2uDkj",
        "outputId": "de7e5530-5337-4c76-fe8c-78eabb893ede"
      },
      "outputs": [
        {
          "output_type": "stream",
          "name": "stdout",
          "text": [
            "170815\n"
          ]
        }
      ],
      "source": [
        "print(sum(1 for t in tokens(mini_dataset)))"
      ]
    },
    {
      "cell_type": "markdown",
      "metadata": {
        "id": "qrNr77NnuDkk"
      },
      "source": [
        "## Problem 1: Build the vocabulary and frequency table"
      ]
    },
    {
      "cell_type": "markdown",
      "metadata": {
        "id": "b1kp6B5FuDkk"
      },
      "source": [
        "Your first task is to construct the embedding **vocabulary** – the set of unique words that will receive an embedding. Because you will eventually need to map words to vector dimensions, you will represent the vocabulary as a dictionary that maps words (strings) to a contiguous range of integers.\n",
        "\n",
        "Along with the vocabulary, you will also construct the **frequency table**, that is, the table that holds the absolute frequencies (counts) in the data, for all words in your vocabulary. This will simply be an array of integers, indexed by the word ids in the vocabulary."
      ]
    },
    {
      "cell_type": "markdown",
      "metadata": {
        "id": "mmB70yh7uDkk"
      },
      "source": [
        "To construct the vocabulary and the frequency table, complete the skeleton code in the cell below:"
      ]
    },
    {
      "cell_type": "code",
      "execution_count": null,
      "metadata": {
        "id": "G9Ce_MXjuDkl"
      },
      "outputs": [],
      "source": [
        "import numpy as np\n",
        "def make_vocab_and_counts(sentences, min_count=5):\n",
        "    vocab = {}\n",
        "    counts = np.array([])\n",
        "    for t in tokens(sentences):\n",
        "        if t in vocab:\n",
        "            counts[vocab[t]] += 1\n",
        "        else:\n",
        "            vocab.update({t : len(counts)})\n",
        "            counts = np.append(counts, 1)\n",
        "\n",
        "\n",
        "    index = np.where(counts < min_count)\n",
        "    counts = np.delete(counts, index[0])\n",
        "\n",
        "    vocab = {k:v for k,v in vocab.items() if v not in index[0]}\n",
        "    vocab = {key: i for i, key in enumerate(vocab)}\n",
        "\n",
        "\n",
        "    return vocab, counts"
      ]
    },
    {
      "cell_type": "markdown",
      "metadata": {
        "id": "rjW4IT5QuDkl"
      },
      "source": [
        "Your code should comply with the following specification:\n",
        "\n",
        "**make_vocab_and_counts** (*sentences*, *min_count* = 5)\n",
        "\n",
        "> Reads from an iterable of *sentences* (lists of string tokens) and returns a pair *vocab*, *counts* where *vocab* is a dictionary representing the vocabulary and *counts* is a 1D-[ndarray](https://numpy.org/doc/stable/reference/generated/numpy.ndarray.html) with the absolute frequencies (counts) of the words in the vocabulary. The dictionary *vocab* maps words to a contiguous range of integers starting at&nbsp;0. In the *counts* array, the entry at index $i$ is the count of that word in *vocab* which maps to $i$. Words that occur less than *min_count* times are excluded from the vocabulary."
      ]
    },
    {
      "cell_type": "markdown",
      "metadata": {
        "id": "H2a7BQVhuDkl"
      },
      "source": [
        "### 🤞 Test your code\n",
        "\n",
        "To test your code, print the sizes of the vocabularies constructed from the two datasets, as well as the count totals. The correct vocabulary size for the minimal dataset is 3,231; for the full dataset, the correct vocabulary size is 73,339. The correct totals are 155,818 for the minimal dataset and 17,297,355 for the full dataset."
      ]
    },
    {
      "cell_type": "code",
      "execution_count": null,
      "metadata": {
        "colab": {
          "base_uri": "https://localhost:8080/",
          "height": 322
        },
        "id": "FOHBKmVLuDkl",
        "outputId": "818c810d-88b2-47d1-96a7-13af6d432731",
        "scrolled": false
      },
      "outputs": [
        {
          "output_type": "error",
          "ename": "KeyboardInterrupt",
          "evalue": "ignored",
          "traceback": [
            "\u001b[0;31m---------------------------------------------------------------------------\u001b[0m",
            "\u001b[0;31mKeyboardInterrupt\u001b[0m                         Traceback (most recent call last)",
            "\u001b[0;32m<ipython-input-16-d76a454eddb7>\u001b[0m in \u001b[0;36m<module>\u001b[0;34m\u001b[0m\n\u001b[0;32m----> 1\u001b[0;31m \u001b[0;34m(\u001b[0m\u001b[0mvocab\u001b[0m\u001b[0;34m,\u001b[0m \u001b[0mcounts\u001b[0m\u001b[0;34m)\u001b[0m\u001b[0;34m=\u001b[0m\u001b[0mmake_vocab_and_counts\u001b[0m\u001b[0;34m(\u001b[0m\u001b[0mfull_dataset\u001b[0m\u001b[0;34m,\u001b[0m\u001b[0;36m5\u001b[0m\u001b[0;34m)\u001b[0m\u001b[0;34m\u001b[0m\u001b[0;34m\u001b[0m\u001b[0m\n\u001b[0m\u001b[1;32m      2\u001b[0m \u001b[0mprint\u001b[0m\u001b[0;34m(\u001b[0m\u001b[0mlen\u001b[0m\u001b[0;34m(\u001b[0m\u001b[0mvocab\u001b[0m\u001b[0;34m)\u001b[0m\u001b[0;34m)\u001b[0m\u001b[0;34m\u001b[0m\u001b[0;34m\u001b[0m\u001b[0m\n\u001b[1;32m      3\u001b[0m \u001b[0mprint\u001b[0m\u001b[0;34m(\u001b[0m\u001b[0mlen\u001b[0m\u001b[0;34m(\u001b[0m\u001b[0mcounts\u001b[0m\u001b[0;34m)\u001b[0m\u001b[0;34m)\u001b[0m\u001b[0;34m\u001b[0m\u001b[0;34m\u001b[0m\u001b[0m\n",
            "\u001b[0;32m<ipython-input-15-b91e8faa9c24>\u001b[0m in \u001b[0;36mmake_vocab_and_counts\u001b[0;34m(sentences, min_count)\u001b[0m\n\u001b[1;32m      4\u001b[0m     \u001b[0mcounts\u001b[0m \u001b[0;34m=\u001b[0m \u001b[0mnp\u001b[0m\u001b[0;34m.\u001b[0m\u001b[0marray\u001b[0m\u001b[0;34m(\u001b[0m\u001b[0;34m[\u001b[0m\u001b[0;34m]\u001b[0m\u001b[0;34m)\u001b[0m\u001b[0;34m\u001b[0m\u001b[0;34m\u001b[0m\u001b[0m\n\u001b[1;32m      5\u001b[0m     \u001b[0;32mfor\u001b[0m \u001b[0mt\u001b[0m \u001b[0;32min\u001b[0m \u001b[0mtokens\u001b[0m\u001b[0;34m(\u001b[0m\u001b[0msentences\u001b[0m\u001b[0;34m)\u001b[0m\u001b[0;34m:\u001b[0m\u001b[0;34m\u001b[0m\u001b[0;34m\u001b[0m\u001b[0m\n\u001b[0;32m----> 6\u001b[0;31m         \u001b[0;32mif\u001b[0m \u001b[0mt\u001b[0m \u001b[0;32min\u001b[0m \u001b[0mvocab\u001b[0m\u001b[0;34m:\u001b[0m\u001b[0;34m\u001b[0m\u001b[0;34m\u001b[0m\u001b[0m\n\u001b[0m\u001b[1;32m      7\u001b[0m             \u001b[0mcounts\u001b[0m\u001b[0;34m[\u001b[0m\u001b[0mvocab\u001b[0m\u001b[0;34m[\u001b[0m\u001b[0mt\u001b[0m\u001b[0;34m]\u001b[0m\u001b[0;34m]\u001b[0m \u001b[0;34m+=\u001b[0m \u001b[0;36m1\u001b[0m\u001b[0;34m\u001b[0m\u001b[0;34m\u001b[0m\u001b[0m\n\u001b[1;32m      8\u001b[0m         \u001b[0;32melse\u001b[0m\u001b[0;34m:\u001b[0m\u001b[0;34m\u001b[0m\u001b[0;34m\u001b[0m\u001b[0m\n",
            "\u001b[0;31mKeyboardInterrupt\u001b[0m: "
          ]
        }
      ],
      "source": [
        "(vocab, counts)=make_vocab_and_counts(full_dataset,5)\n",
        "print(len(vocab))\n",
        "print(len(counts))"
      ]
    },
    {
      "cell_type": "markdown",
      "metadata": {
        "id": "cRtiKAGauDkm"
      },
      "source": [
        "## Problem 2: Preprocess the data"
      ]
    },
    {
      "cell_type": "markdown",
      "metadata": {
        "id": "-K425I5VuDkm"
      },
      "source": [
        "Your next task is to preprocess the training data. This involves the following:\n",
        "\n",
        "* Discard words that are not in the vocabulary\n",
        "* Map each word to its vocabulary id\n",
        "* Randomly discard words according to the subsampling strategy covered in Lecture&nbsp;1.4\n",
        "* Discard sentences that have become empty\n",
        "\n",
        "As a reminder, the subsampling strategy involves discarding tokens $w$ with probability\n",
        "\n",
        "$$\n",
        "P(w) = \\max (0, 1-\\sqrt{tN/\\#(w)})\n",
        "$$\n",
        "\n",
        "where $\\#(w)$ is the count of $w$, $N$ is the total number of counts, and $t$ is the chosen threshold (default value: 0.001)."
      ]
    },
    {
      "cell_type": "markdown",
      "metadata": {
        "id": "5JaaxCo-uDkm"
      },
      "source": [
        "The cell below contains skeleton code for a generator function `preprocess`:"
      ]
    },
    {
      "cell_type": "code",
      "source": [
        "import random\n",
        "import math\n",
        "def preprocess(vocab, counts, sentences, threshold=0.001):\n",
        "  N = sum(i for i in counts)\n",
        "  for sentence in sentences:\n",
        "    #sentence.sort()\n",
        "    #index = np.searchsorted(np.array(list(vocab.keys())), sentence)\n",
        "\n",
        "    result = np.zeros(len(sentence))\n",
        "    result2 = np.zeros(len(sentence))\n",
        "    for i, word in enumerate(sentence):\n",
        "\n",
        "      if word in vocab:\n",
        "        result[i] = True\n",
        "      else:\n",
        "        result[i] = False\n",
        "\n",
        "      if word in vocab:\n",
        "        index = vocab[word]\n",
        "        value = math.sqrt((threshold*N)/counts[index])\n",
        "        procent = max(0,1-value)\n",
        "        p = random.uniform(0,1)\n",
        "        sentence[i] = vocab[word]\n",
        "        if procent > p:\n",
        "          result2[i] = False\n",
        "        else:\n",
        "          result2[i] = True\n",
        "      else:\n",
        "        result2[i] = False\n",
        "        sentence[i] = 0\n",
        "    result = np.logical_and(result,result2)\n",
        "    sentence = np.array(sentence)\n",
        "    sentence = sentence[result]\n",
        "    if len(sentence) > 0:\n",
        "      yield sentence\n",
        ""
      ],
      "metadata": {
        "id": "GOrrcbOFoylU"
      },
      "execution_count": null,
      "outputs": []
    },
    {
      "cell_type": "markdown",
      "metadata": {
        "id": "xK_g6HEduDkn"
      },
      "source": [
        "Extend this skeleton code into a function that implements the preprocessing. Your code should comply with the following specification:\n",
        "\n",
        "**preprocess** (*vocab*, *counts*, *sentences*, *threshold* = 0.001)\n",
        "\n",
        "> Reads from an iterable of *sentences* (lists of string tokens) and yields the preprocessed sentences as non-empty lists of word ids (integers). Words not in *vocab* are discarded. The remaining words are randomly discarded according to the subsampling strategy with the given *threshold*. In the non-empty sentences, each token is replaced by its id in the vocabulary.\n",
        "\n",
        "**⚠️ Please observe** that your function should *yield* the preprocessed sentences, not return a list with all of them. That is, we ask you to write a *generator function*. If you have not worked with generators and iterators before, now is a good time to read up on them. [More information about generators](https://wiki.python.org/moin/Generators)"
      ]
    },
    {
      "cell_type": "markdown",
      "metadata": {
        "id": "t9_VShhXuDkn"
      },
      "source": [
        "### 🤞 Test your code\n",
        "\n",
        "Test your code by comparing the total number of tokens in the preprocessed version of each dataset with the corresponding number for the original data. The former should be ca. 59% of the latter for the minimal dataset, and ca. 69% for the full dataset. The exact percentage will vary slightly because of the randomness in the sampling. You may want to repeat your computation several times."
      ]
    },
    {
      "cell_type": "code",
      "execution_count": null,
      "metadata": {
        "colab": {
          "base_uri": "https://localhost:8080/"
        },
        "id": "80avSlI2uDko",
        "outputId": "531b14eb-6abd-4c06-cff7-a2e8199e8a60",
        "scrolled": true
      },
      "outputs": [
        {
          "output_type": "stream",
          "name": "stdout",
          "text": [
            "0.6945458296544706\n"
          ]
        }
      ],
      "source": [
        "# # TODO: Test your code here\n",
        "(vocab_mini, counts_mini) = make_vocab_and_counts(full_dataset,5)\n",
        "\n",
        "sentences = preprocess(vocab_mini, counts_mini, full_dataset, 0.001)\n",
        "print(sum(1 for t in tokens(sentences))/ sum(1 for t in tokens(full_dataset)))"
      ]
    },
    {
      "cell_type": "markdown",
      "metadata": {
        "id": "Ii3RXPFJuDko"
      },
      "source": [
        "## Problem 3: Generate the training examples"
      ]
    },
    {
      "cell_type": "markdown",
      "metadata": {
        "id": "nrSv5hijuDko"
      },
      "source": [
        "Your next task is to translate the preprocessed sentences into training examples for the skip-gram model: both *positive examples* (target word–context word pairs actually observed in the data) and *negative examples* (pairs randomly sampled from a noise distribution).\n",
        "\n",
        "**⚠️ We expect that solving this problem will take you the longest time in this lab.**\n",
        "\n",
        "### General strategy\n",
        "\n",
        "The general plan for solving this problem is to implement a generator function that traverses the preprocessed sentences, at each position of the text samples a window, and then extracts all positive examples from it. For each positive example, the function also generates $k$ negative examples, where $k$ is a hyperparameter. Finally, all examples (positive and negative) are combined into the tensor representation described below.\n",
        "\n",
        "### Representation\n",
        "\n",
        "How should you represent a batch of training examples? Writing $B$ for the batch size, the obvious choice would be to represent the inputs as a matrix of shape $[B, 2]$ and the output labels (positive/negative) as a vector of length $B$. This representation would be quite wasteful on the input side, however, as each target word (index) from a positive example would have to be repeated in all negative samples. For example ($k=3$):"
      ]
    },
    {
      "cell_type": "raw",
      "metadata": {
        "id": "GMpvqXfIuDko"
      },
      "source": [
        "tensor([[34,  237],    # positive example 1\n",
        "        [34, 2561],    # negative example 1.1\n",
        "        [34,   39],    # negative example 1.2\n",
        "        [34,  903],    # negative example 1.3\n",
        "        [34, 2036],    # positive example 2\n",
        "        [34, 2132],    # negative example 2.1\n",
        "        [34,  576],    # negative example 2.2\n",
        "        [34, 2437]])   # negative example 2.3"
      ]
    },
    {
      "cell_type": "markdown",
      "metadata": {
        "id": "XUoWvqMluDko"
      },
      "source": [
        "Here you will use a different representation: First, instead of a single input batch, there will be a *pair* of input batches – a vector for the target words and a matrix for the context words. If the target word vector has length $B$, the context word matrix has shape $[B, 1+k]$. The $i$th element of the target word vector is the target word for *all* context words in the $i$th row of the context word matrix: the first column of that row comes from a positive example, the remaining columns come from the $k$ negative samples. Accordingly, the batch with the output labels will be a matrix of the same shape as the context word matrix, with its first column set to&nbsp;1 and its remaining columns set to&nbsp;0. Corresponding to the example above:"
      ]
    },
    {
      "cell_type": "raw",
      "metadata": {
        "id": "OmzFYjuDuDkp"
      },
      "source": [
        "# input batch component 1: target word vector\n",
        "tensor([34, 34])\n",
        "\n",
        "# input batch component 2: context word matrix\n",
        "tensor([[237, 2561, 39, 903], [2036, 2132, 576, 2437]])\n",
        "\n",
        "# output labels\n",
        "tensor([[1, 0, 0, 0], [1, 0, 0, 0]])"
      ]
    },
    {
      "cell_type": "markdown",
      "metadata": {
        "id": "av8Bc6Y6uDkp"
      },
      "source": [
        "For the present problem, you will only be concerned with the two input batches; the output batch will be constructed in the training procedure. In fact, for a fixed batch size $B$, that batch is always exactly the same, so you will only have to build it once.\n",
        "\n",
        "### Negative sampling\n",
        "\n",
        "Recall from Lecture&nbsp;1.4 that the probability of a word $c$ to be selected as the context word in a negative sample is proportional to its exponentiated count $\\#(c)^\\alpha$, where $\\alpha$ is a hyperparameter (default value: 0.75).\n",
        "\n",
        "To implement negative sampling from this distribution, you can follow a standard recipe: Start by pre-computing an array containing the *cumulative sums* of the exponentiated counts. Then, generate a random cumulative count $n$, and find that index in the pre-computed array at which $n$ should be inserted to keep the array sorted. That index identifies the sampled context word.\n",
        "\n",
        "All operations in this recipe can be implemented efficiently in PyTorch; the relevant functions are [`torch.cumsum`](https://pytorch.org/docs/stable/generated/torch.cumsum.html) and [`torch.searchsorted`](https://pytorch.org/docs/stable/generated/torch.searchsorted.html). For optimal efficiency, you should sample all $B \\times k$ negative examples in a batch at once."
      ]
    },
    {
      "cell_type": "markdown",
      "metadata": {
        "id": "_BodmSRnuDkp"
      },
      "source": [
        "Here is skeleton code for this problem:"
      ]
    },
    {
      "cell_type": "code",
      "execution_count": null,
      "metadata": {
        "id": "C2qvAQmVuDkq"
      },
      "outputs": [],
      "source": [
        "import torch\n",
        "import random\n",
        "def training_examples(vocab, counts, sentences, window=5, num_ns=5, batch_size=1<<19, ns_exponent=0.75):\n",
        "    batch_counter = 0\n",
        "    target_vector = np.zeros(batch_size)\n",
        "    context_vector = np.zeros((batch_size, num_ns+1))\n",
        "    counts = np.power(counts, 0.75)\n",
        "    cumulative_sums = torch.cumsum(torch.from_numpy(counts), dim=0)\n",
        "    for sentence in sentences:\n",
        "        for t in range(len(sentence)):\n",
        "            windowSize = random.randint(1,window)\n",
        "            right = min(windowSize,len(sentence)-1-t)\n",
        "            left = min(windowSize, t)\n",
        "            allPosExample = np.zeros(right + left)\n",
        "            allPosExample[0:left] = sentence[t-left:t]\n",
        "            allPosExample[left:left+right] = sentence[t+1:t+right+1]\n",
        "            if batch_size - batch_counter >= len(allPosExample):\n",
        "                targetValue = np.full(len(allPosExample), sentence[t])\n",
        "                target_vector[batch_counter:batch_counter + len(allPosExample)] = targetValue\n",
        "                context_vector[batch_counter:batch_counter + len(allPosExample),0] = allPosExample\n",
        "                batch_counter += len(allPosExample)\n",
        "            else:\n",
        "                targetValue = np.full(batch_size-batch_counter, sentence[t])\n",
        "                target_vector[batch_counter:batch_size] = targetValue\n",
        "                context_vector[batch_counter:batch_size, 0] = allPosExample[0:batch_size-batch_counter]\n",
        "                batch_counter = 0\n",
        "                negativeValues = fillWithNegativeWords(vocab, cumulative_sums, context_vector, batch_size, num_ns)\n",
        "\n",
        "                context_vector[0:batch_size,1:num_ns+1] = negativeValues\n",
        "                target_vector = torch.from_numpy(target_vector)\n",
        "                context_vector = torch.from_numpy(context_vector)\n",
        "                yield target_vector, context_vector\n",
        "                target_vector = np.zeros(batch_size)\n",
        "                context_vector = np.zeros((batch_size, num_ns+1))\n",
        "    if (batch_counter < batch_size) and (batch_counter > 0):\n",
        "        target_vector = target_vector[:batch_counter]\n",
        "        context_vector = context_vector[:batch_counter]\n",
        "\n",
        "        negativeValues = fillWithNegativeWords(vocab, cumulative_sums, context_vector, batch_counter, num_ns)\n",
        "\n",
        "        context_vector[0:batch_counter,1:num_ns+1] = negativeValues\n",
        "\n",
        "\n",
        "        target_vector = torch.from_numpy(target_vector)\n",
        "        context_vector = torch.from_numpy(context_vector)\n",
        "\n",
        "        yield target_vector, context_vector\n",
        "\n",
        "def fillWithNegativeWords(vocab, cumulative_sums, context_vector, batch_size, num_ns):\n",
        "    randomPoints = torch.rand(batch_size, num_ns) *cumulative_sums[-1]\n",
        "    negativeValues = torch.searchsorted(cumulative_sums, randomPoints).numpy()\n",
        "    return negativeValues"
      ]
    },
    {
      "cell_type": "markdown",
      "metadata": {
        "id": "Gk-ZeDGOuDkq"
      },
      "source": [
        "Your code should comply with the following specification:\n",
        "\n",
        "**training_examples** (*vocab*, *counts*, *sentences*, *window* = 5, *num_ns* = 5, *batch_size* = 524,288, *ns_exponent*=0.75)\n",
        "\n",
        "> Reads from an iterable of *sentences* (lists of string tokens), preprocesses them using the function implemented in Problem&nbsp;2, and then yields pairs of input batches for gradient-based training, represented as described above. Each batch contains *batch_size* positive examples. The parameter *window* specifies the maximal distance between a target word and a context word in a positive example; the actual window size around any given target word is sampled uniformly at random. The parameter *num_ns* specifies the number of negative samples per positive sample. The parameter *ns_exponent* specifies the exponent in the negative sampling (called $\\alpha$ above)."
      ]
    },
    {
      "cell_type": "markdown",
      "metadata": {
        "id": "bWaelpQFuDkq"
      },
      "source": [
        "### 🤞 Test your code\n",
        "\n",
        "To test your code, compare the total number of positive samples (across all batches) to the total number of tokens in the (un-preprocessed) minimal dataset. The ratio between these two values should be ca. 2.64. If you can spare the time, you can make the same comparison on the full dataset; here, the expected ratio is 3.25. As before, the numbers may vary slightly because of randomness, so you may want to run the comparison more than once."
      ]
    },
    {
      "cell_type": "markdown",
      "metadata": {
        "id": "tdjhe3U5uDkq"
      },
      "source": [
        "## Problem 4: Implement the model"
      ]
    },
    {
      "cell_type": "markdown",
      "metadata": {
        "id": "cQ0bMEQSuDkr"
      },
      "source": [
        "Now it is time to implement the skip-gram model as such. The cell below contains skeleton code for this. As you will recall from Lecture&nbsp;1.4, the core of the implementation is formed by two embedding layers: one for the target word representations, and one for the context word representations. Your task is to implement the missing `forward()` method."
      ]
    },
    {
      "cell_type": "code",
      "execution_count": null,
      "metadata": {
        "colab": {
          "base_uri": "https://localhost:8080/"
        },
        "id": "Cct6KeMXuDkr",
        "outputId": "27dbbdad-26a1-4aad-d7fc-a1682585522a"
      },
      "outputs": [
        {
          "output_type": "stream",
          "name": "stdout",
          "text": [
            "2.634475894974095\n"
          ]
        }
      ],
      "source": [
        "# TODO: Test your code here\n",
        "(vocab, counts)=make_vocab_and_counts(mini_dataset,5)\n",
        "sentences = preprocess(vocab, counts, mini_dataset, 0.001)\n",
        "\n",
        "posSamples = 0\n",
        "for target,context in training_examples(vocab, counts,sentences, window=5, num_ns=5, batch_size=1<<19, ns_exponent=0.75):\n",
        "    posSamples += len(target)\n",
        "\n",
        "print(posSamples/170815)"
      ]
    },
    {
      "cell_type": "code",
      "execution_count": null,
      "metadata": {
        "id": "RmduR5lguDks"
      },
      "outputs": [],
      "source": [
        "import torch\n",
        "import torch.nn as nn\n",
        "import torch.nn.functional as F\n",
        "\n",
        "class SGNSModel(nn.Module):\n",
        "\n",
        "    def __init__(self, vocab, embedding_dim):\n",
        "        super().__init__()\n",
        "        self.vocab = vocab\n",
        "        self.w = nn.Embedding(len(vocab), embedding_dim, device = device)\n",
        "        self.c = nn.Embedding(len(vocab), embedding_dim, device = device)\n",
        "\n",
        "    def forward(self, w, c):\n",
        "        w=w.to(torch.int64)\n",
        "\n",
        "        embedded_w = self.w(w)\n",
        "\n",
        "        c = c.to(torch.int64)\n",
        "\n",
        "        embedded_c = self.c(c)\n",
        "\n",
        "        d = torch.zeros_like(c,dtype=torch.float)\n",
        "\n",
        "        for i in range(embedded_c.shape[1]):\n",
        "            d[:,i] = torch.sum(torch.mul(embedded_w, embedded_c[:,i]),dim=1)\n",
        "\n",
        "        return d"
      ]
    },
    {
      "cell_type": "markdown",
      "metadata": {
        "id": "brL7_TUYuDks"
      },
      "source": [
        "Your implementation of the `forward()` method should comply with the following specification:\n",
        "\n",
        "**forward** (*self*, *w*, *c*)\n",
        "\n",
        "> The input to this methods is a tensor *w* with target words of shape $[B]$ and a tensor *c* with context words of shape $[B, 1+k]$, where $B$ is the batch size and $k$ is the number of negative samples. The two tensors are structured as explained for Problem&nbsp;3. The output of the method is a tensor $D$ of shape $[B, k+1]$ where entry $D_{ij}$ is the dot product between the embedding vector for the $i$th target word and the embedding vector for the context word in row $i$, column $j$.\n",
        "\n",
        "**💡 Hint:** To compute a dot product $x^\\top y$, you can first compute the Hadamard product $z = x \\odot y$ and then sum up the elements of $z$."
      ]
    },
    {
      "cell_type": "markdown",
      "metadata": {
        "id": "D8P8aqi8uDks"
      },
      "source": [
        "### 🤞 Test your code\n",
        "\n",
        "Test your code by creating an instance of the model, and check that `forward` returns the expected result on random input tensors *w* and *c*. To help you, the following function will return a random example from the first 100 examples produced by `training_examples`."
      ]
    },
    {
      "cell_type": "code",
      "execution_count": null,
      "metadata": {
        "colab": {
          "base_uri": "https://localhost:8080/"
        },
        "id": "apn42I65uDks",
        "outputId": "adb2f3f9-5e5e-4859-997a-87647f22da67"
      },
      "outputs": [
        {
          "output_type": "stream",
          "name": "stdout",
          "text": [
            "<class 'torch.Tensor'> <class 'torch.Tensor'>\n",
            "tensor([[-0.1425, -0.3847],\n",
            "        [ 0.0597, -0.0541],\n",
            "        [-0.3736,  1.2617],\n",
            "        [ 0.2377,  0.6950],\n",
            "        [-1.1847,  0.4090]], grad_fn=<CopySlices>)\n"
          ]
        }
      ],
      "source": [
        "# TODO: Test your code here\n",
        "import numpy as np\n",
        "\n",
        "\n",
        "def random_example(vocab, counts, sentences):\n",
        "    skip = np.random.randint(100)\n",
        "    for i, example in enumerate(training_examples(vocab, counts,  sentences, window=5, num_ns=1, batch_size=5, ns_exponent=0.75)):\n",
        "\n",
        "        if i >= skip:\n",
        "            break\n",
        "    return example\n",
        "\n",
        "\n",
        "(vocab, counts)=make_vocab_and_counts(mini_dataset,5)\n",
        "sentences = preprocess(vocab, counts, mini_dataset, 0.001)\n",
        "\n",
        "model = SGNSModel(vocab, 3)\n",
        "\n",
        "rand = random_example(vocab, counts, sentences)\n",
        "print(type(rand[0]), type(rand[1]))\n",
        "print(model.forward(rand[0].to(device), rand[1].to(device)))"
      ]
    },
    {
      "cell_type": "markdown",
      "metadata": {
        "id": "a_Z5Gnp-uDkt"
      },
      "source": [
        "## Problem 5: Train the model"
      ]
    },
    {
      "cell_type": "markdown",
      "metadata": {
        "id": "e57BOBtBuDkt"
      },
      "source": [
        "Once you have a working model, it is time to train it. The training loop for the skip-gram model will be very similar to the prototypical training loop that you saw in Lecture&nbsp;0.6, with two things to note:\n",
        "\n",
        "First, instead of categorical cross entropy, you will use binary cross entropy. Just like the standard implementation of the softmax classifier, the skip-gram model does not include a final non-linearity, so you should use [`binary_cross_entropy_with_logits()`](https://pytorch.org/docs/1.9.1/generated/torch.nn.functional.binary_cross_entropy_with_logits.html).\n",
        "\n",
        "The second thing to note is that you will have to create the tensor with the output labels, as explained already in Problem&nbsp;3. This should be a matrix of size $[B, 1+k]$ whose first column contains $1$s and whose remaining columns contains $0$s."
      ]
    },
    {
      "cell_type": "markdown",
      "metadata": {
        "id": "EXx-F54GuDkt"
      },
      "source": [
        "Here is skeleton code for the training loop, including default values for the most important hyperparameters:"
      ]
    },
    {
      "cell_type": "code",
      "execution_count": null,
      "metadata": {
        "id": "wjbREMaKuDku"
      },
      "outputs": [],
      "source": [
        "from copy import deepcopy\n",
        "import torch.optim as optim\n",
        "import time\n",
        "def train(sentences, embedding_dim=50, window=5, num_ns=5, batch_size=1<<19, n_epochs=2, lr=1e-1):\n",
        "    # Create the vocabulary and the counts\n",
        "    vocab, counts = make_vocab_and_counts(sentences)\n",
        "\n",
        "    # Initialize the model\n",
        "    model = SGNSModel(vocab, embedding_dim)\n",
        "\n",
        "    # Initialize the optimizer. Here we use Adam rather than plain SGD\n",
        "    optimizer = optim.Adam(model.parameters(), lr=lr)\n",
        "    sentences = list(preprocess(vocab, counts, sentences, 0.001))\n",
        "    # TODO: Add your code here\n",
        "    start = time.time()\n",
        "    for epoch in range(n_epochs):\n",
        "        print('epoch',epoch)\n",
        "        model.train()\n",
        "        for target, context in training_examples(vocab, counts, sentences, window=5, num_ns=5, batch_size=1<<19, ns_exponent=0.75):\n",
        "            target = target.to(device)\n",
        "            context = context.to(device)\n",
        "            optimizer.zero_grad()\n",
        "            start = time.time()\n",
        "            output = model.forward(target, context)\n",
        "            y = torch.zeros_like(context)\n",
        "            y[:,0] = 1\n",
        "\n",
        "            loss = F.binary_cross_entropy_with_logits(output,y)\n",
        "            print(loss)\n",
        "\n",
        "            loss.backward()\n",
        "\n",
        "            optimizer.step()\n",
        "\n",
        "\n",
        "    return model"
      ]
    },
    {
      "cell_type": "markdown",
      "metadata": {
        "id": "YoNyrghvuDku"
      },
      "source": [
        "To show you how `train` is meant to be used, the code in the next cell trains a model on the minimal dataset."
      ]
    },
    {
      "cell_type": "code",
      "execution_count": null,
      "metadata": {
        "id": "LBXh-eTkuDku"
      },
      "outputs": [],
      "source": [
        "model = train(full_dataset)"
      ]
    },
    {
      "cell_type": "markdown",
      "metadata": {
        "id": "SR8ZSWcouDku"
      },
      "source": [
        "### 🤞 Test your code\n",
        "\n",
        "Test your implementation of the training loop by training a model on the minimal dataset. This should only take a few seconds. You will not get useful word vectors, but you will be able to see whether your code runs without errors.\n",
        "\n",
        "Once you have passed this test, you can train a model on the full dataset. Print the loss to check that the model is actually learning; if the loss is not decreasing, try to find the problem before wasting time (and energy) on useless training.\n",
        "\n",
        "Training on the full dataset will take some time – on a CPU, you should expect 10–40 minutes per epoch, depending on hardware. To give you some guidance: The total number of positive examples is approximately 58M, and the batch size is chosen so that each batch contains roughly 10% of these examples. To speed things up, you can train using a GPU; our reference implementation runs in less than 2 minutes per epoch on [Colab](http://colab.research.google.com)."
      ]
    },
    {
      "cell_type": "code",
      "execution_count": null,
      "metadata": {
        "colab": {
          "base_uri": "https://localhost:8080/"
        },
        "id": "aCeTWBs4uDku",
        "outputId": "fd3fc80d-7ee0-45e1-eecb-15eec4bb9cd0"
      },
      "outputs": [
        {
          "output_type": "stream",
          "name": "stdout",
          "text": [
            "epoch 0\n",
            "tensor(2.8970, dtype=torch.float64,\n",
            "       grad_fn=<BinaryCrossEntropyWithLogitsBackward0>)\n",
            "tensor(2.5784, dtype=torch.float64,\n",
            "       grad_fn=<BinaryCrossEntropyWithLogitsBackward0>)\n",
            "tensor(2.3411, dtype=torch.float64,\n",
            "       grad_fn=<BinaryCrossEntropyWithLogitsBackward0>)\n",
            "tensor(2.0883, dtype=torch.float64,\n",
            "       grad_fn=<BinaryCrossEntropyWithLogitsBackward0>)\n",
            "tensor(1.8661, dtype=torch.float64,\n",
            "       grad_fn=<BinaryCrossEntropyWithLogitsBackward0>)\n",
            "tensor(1.6706, dtype=torch.float64,\n",
            "       grad_fn=<BinaryCrossEntropyWithLogitsBackward0>)\n",
            "tensor(1.4790, dtype=torch.float64,\n",
            "       grad_fn=<BinaryCrossEntropyWithLogitsBackward0>)\n",
            "tensor(1.3182, dtype=torch.float64,\n",
            "       grad_fn=<BinaryCrossEntropyWithLogitsBackward0>)\n",
            "tensor(1.1543, dtype=torch.float64,\n",
            "       grad_fn=<BinaryCrossEntropyWithLogitsBackward0>)\n",
            "tensor(1.0149, dtype=torch.float64,\n",
            "       grad_fn=<BinaryCrossEntropyWithLogitsBackward0>)\n",
            "tensor(0.9240, dtype=torch.float64,\n",
            "       grad_fn=<BinaryCrossEntropyWithLogitsBackward0>)\n",
            "tensor(0.8320, dtype=torch.float64,\n",
            "       grad_fn=<BinaryCrossEntropyWithLogitsBackward0>)\n",
            "tensor(0.7686, dtype=torch.float64,\n",
            "       grad_fn=<BinaryCrossEntropyWithLogitsBackward0>)\n",
            "tensor(0.7295, dtype=torch.float64,\n",
            "       grad_fn=<BinaryCrossEntropyWithLogitsBackward0>)\n",
            "tensor(0.6823, dtype=torch.float64,\n",
            "       grad_fn=<BinaryCrossEntropyWithLogitsBackward0>)\n",
            "tensor(0.6602, dtype=torch.float64,\n",
            "       grad_fn=<BinaryCrossEntropyWithLogitsBackward0>)\n",
            "tensor(0.6303, dtype=torch.float64,\n",
            "       grad_fn=<BinaryCrossEntropyWithLogitsBackward0>)\n",
            "tensor(0.6069, dtype=torch.float64,\n",
            "       grad_fn=<BinaryCrossEntropyWithLogitsBackward0>)\n",
            "tensor(0.6003, dtype=torch.float64,\n",
            "       grad_fn=<BinaryCrossEntropyWithLogitsBackward0>)\n",
            "tensor(0.5830, dtype=torch.float64,\n",
            "       grad_fn=<BinaryCrossEntropyWithLogitsBackward0>)\n",
            "tensor(0.5686, dtype=torch.float64,\n",
            "       grad_fn=<BinaryCrossEntropyWithLogitsBackward0>)\n",
            "tensor(0.5573, dtype=torch.float64,\n",
            "       grad_fn=<BinaryCrossEntropyWithLogitsBackward0>)\n",
            "tensor(0.5491, dtype=torch.float64,\n",
            "       grad_fn=<BinaryCrossEntropyWithLogitsBackward0>)\n",
            "tensor(0.5383, dtype=torch.float64,\n",
            "       grad_fn=<BinaryCrossEntropyWithLogitsBackward0>)\n",
            "tensor(0.5317, dtype=torch.float64,\n",
            "       grad_fn=<BinaryCrossEntropyWithLogitsBackward0>)\n",
            "tensor(0.5392, dtype=torch.float64,\n",
            "       grad_fn=<BinaryCrossEntropyWithLogitsBackward0>)\n",
            "tensor(0.5224, dtype=torch.float64,\n",
            "       grad_fn=<BinaryCrossEntropyWithLogitsBackward0>)\n",
            "tensor(0.5255, dtype=torch.float64,\n",
            "       grad_fn=<BinaryCrossEntropyWithLogitsBackward0>)\n",
            "tensor(0.5174, dtype=torch.float64,\n",
            "       grad_fn=<BinaryCrossEntropyWithLogitsBackward0>)\n",
            "tensor(0.5113, dtype=torch.float64,\n",
            "       grad_fn=<BinaryCrossEntropyWithLogitsBackward0>)\n",
            "tensor(0.5017, dtype=torch.float64,\n",
            "       grad_fn=<BinaryCrossEntropyWithLogitsBackward0>)\n",
            "tensor(0.5014, dtype=torch.float64,\n",
            "       grad_fn=<BinaryCrossEntropyWithLogitsBackward0>)\n",
            "tensor(0.4978, dtype=torch.float64,\n",
            "       grad_fn=<BinaryCrossEntropyWithLogitsBackward0>)\n",
            "tensor(0.4911, dtype=torch.float64,\n",
            "       grad_fn=<BinaryCrossEntropyWithLogitsBackward0>)\n",
            "tensor(0.4909, dtype=torch.float64,\n",
            "       grad_fn=<BinaryCrossEntropyWithLogitsBackward0>)\n",
            "tensor(0.4844, dtype=torch.float64,\n",
            "       grad_fn=<BinaryCrossEntropyWithLogitsBackward0>)\n",
            "tensor(0.4754, dtype=torch.float64,\n",
            "       grad_fn=<BinaryCrossEntropyWithLogitsBackward0>)\n",
            "tensor(0.4919, dtype=torch.float64,\n",
            "       grad_fn=<BinaryCrossEntropyWithLogitsBackward0>)\n",
            "tensor(0.4735, dtype=torch.float64,\n",
            "       grad_fn=<BinaryCrossEntropyWithLogitsBackward0>)\n",
            "tensor(0.4767, dtype=torch.float64,\n",
            "       grad_fn=<BinaryCrossEntropyWithLogitsBackward0>)\n",
            "tensor(0.4728, dtype=torch.float64,\n",
            "       grad_fn=<BinaryCrossEntropyWithLogitsBackward0>)\n",
            "tensor(0.4816, dtype=torch.float64,\n",
            "       grad_fn=<BinaryCrossEntropyWithLogitsBackward0>)\n",
            "tensor(0.4719, dtype=torch.float64,\n",
            "       grad_fn=<BinaryCrossEntropyWithLogitsBackward0>)\n",
            "tensor(0.4622, dtype=torch.float64,\n",
            "       grad_fn=<BinaryCrossEntropyWithLogitsBackward0>)\n",
            "tensor(0.4616, dtype=torch.float64,\n",
            "       grad_fn=<BinaryCrossEntropyWithLogitsBackward0>)\n",
            "tensor(0.4593, dtype=torch.float64,\n",
            "       grad_fn=<BinaryCrossEntropyWithLogitsBackward0>)\n",
            "tensor(0.4831, dtype=torch.float64,\n",
            "       grad_fn=<BinaryCrossEntropyWithLogitsBackward0>)\n",
            "tensor(0.4586, dtype=torch.float64,\n",
            "       grad_fn=<BinaryCrossEntropyWithLogitsBackward0>)\n",
            "tensor(0.4534, dtype=torch.float64,\n",
            "       grad_fn=<BinaryCrossEntropyWithLogitsBackward0>)\n",
            "tensor(0.4607, dtype=torch.float64,\n",
            "       grad_fn=<BinaryCrossEntropyWithLogitsBackward0>)\n",
            "tensor(0.4534, dtype=torch.float64,\n",
            "       grad_fn=<BinaryCrossEntropyWithLogitsBackward0>)\n",
            "tensor(0.4437, dtype=torch.float64,\n",
            "       grad_fn=<BinaryCrossEntropyWithLogitsBackward0>)\n",
            "tensor(0.4376, dtype=torch.float64,\n",
            "       grad_fn=<BinaryCrossEntropyWithLogitsBackward0>)\n",
            "tensor(0.4515, dtype=torch.float64,\n",
            "       grad_fn=<BinaryCrossEntropyWithLogitsBackward0>)\n",
            "tensor(0.4475, dtype=torch.float64,\n",
            "       grad_fn=<BinaryCrossEntropyWithLogitsBackward0>)\n",
            "tensor(0.4601, dtype=torch.float64,\n",
            "       grad_fn=<BinaryCrossEntropyWithLogitsBackward0>)\n",
            "tensor(0.4570, dtype=torch.float64,\n",
            "       grad_fn=<BinaryCrossEntropyWithLogitsBackward0>)\n",
            "tensor(0.4419, dtype=torch.float64,\n",
            "       grad_fn=<BinaryCrossEntropyWithLogitsBackward0>)\n",
            "tensor(0.4404, dtype=torch.float64,\n",
            "       grad_fn=<BinaryCrossEntropyWithLogitsBackward0>)\n",
            "tensor(0.4434, dtype=torch.float64,\n",
            "       grad_fn=<BinaryCrossEntropyWithLogitsBackward0>)\n",
            "tensor(0.4409, dtype=torch.float64,\n",
            "       grad_fn=<BinaryCrossEntropyWithLogitsBackward0>)\n",
            "tensor(0.4463, dtype=torch.float64,\n",
            "       grad_fn=<BinaryCrossEntropyWithLogitsBackward0>)\n",
            "tensor(0.4403, dtype=torch.float64,\n",
            "       grad_fn=<BinaryCrossEntropyWithLogitsBackward0>)\n",
            "tensor(0.4266, dtype=torch.float64,\n",
            "       grad_fn=<BinaryCrossEntropyWithLogitsBackward0>)\n",
            "tensor(0.4379, dtype=torch.float64,\n",
            "       grad_fn=<BinaryCrossEntropyWithLogitsBackward0>)\n",
            "tensor(0.4345, dtype=torch.float64,\n",
            "       grad_fn=<BinaryCrossEntropyWithLogitsBackward0>)\n",
            "tensor(0.4377, dtype=torch.float64,\n",
            "       grad_fn=<BinaryCrossEntropyWithLogitsBackward0>)\n",
            "tensor(0.4324, dtype=torch.float64,\n",
            "       grad_fn=<BinaryCrossEntropyWithLogitsBackward0>)\n",
            "tensor(0.4350, dtype=torch.float64,\n",
            "       grad_fn=<BinaryCrossEntropyWithLogitsBackward0>)\n",
            "tensor(0.4376, dtype=torch.float64,\n",
            "       grad_fn=<BinaryCrossEntropyWithLogitsBackward0>)\n",
            "tensor(0.4313, dtype=torch.float64,\n",
            "       grad_fn=<BinaryCrossEntropyWithLogitsBackward0>)\n",
            "tensor(0.4284, dtype=torch.float64,\n",
            "       grad_fn=<BinaryCrossEntropyWithLogitsBackward0>)\n",
            "tensor(0.4319, dtype=torch.float64,\n",
            "       grad_fn=<BinaryCrossEntropyWithLogitsBackward0>)\n",
            "tensor(0.4350, dtype=torch.float64,\n",
            "       grad_fn=<BinaryCrossEntropyWithLogitsBackward0>)\n",
            "tensor(0.4337, dtype=torch.float64,\n",
            "       grad_fn=<BinaryCrossEntropyWithLogitsBackward0>)\n",
            "tensor(0.4281, dtype=torch.float64,\n",
            "       grad_fn=<BinaryCrossEntropyWithLogitsBackward0>)\n",
            "tensor(0.4266, dtype=torch.float64,\n",
            "       grad_fn=<BinaryCrossEntropyWithLogitsBackward0>)\n",
            "tensor(0.4267, dtype=torch.float64,\n",
            "       grad_fn=<BinaryCrossEntropyWithLogitsBackward0>)\n",
            "tensor(0.4322, dtype=torch.float64,\n",
            "       grad_fn=<BinaryCrossEntropyWithLogitsBackward0>)\n",
            "tensor(0.4260, dtype=torch.float64,\n",
            "       grad_fn=<BinaryCrossEntropyWithLogitsBackward0>)\n",
            "tensor(0.4262, dtype=torch.float64,\n",
            "       grad_fn=<BinaryCrossEntropyWithLogitsBackward0>)\n",
            "tensor(0.4232, dtype=torch.float64,\n",
            "       grad_fn=<BinaryCrossEntropyWithLogitsBackward0>)\n",
            "tensor(0.4207, dtype=torch.float64,\n",
            "       grad_fn=<BinaryCrossEntropyWithLogitsBackward0>)\n",
            "tensor(0.4220, dtype=torch.float64,\n",
            "       grad_fn=<BinaryCrossEntropyWithLogitsBackward0>)\n",
            "tensor(0.4213, dtype=torch.float64,\n",
            "       grad_fn=<BinaryCrossEntropyWithLogitsBackward0>)\n",
            "tensor(0.4177, dtype=torch.float64,\n",
            "       grad_fn=<BinaryCrossEntropyWithLogitsBackward0>)\n",
            "tensor(0.4248, dtype=torch.float64,\n",
            "       grad_fn=<BinaryCrossEntropyWithLogitsBackward0>)\n",
            "tensor(0.4205, dtype=torch.float64,\n",
            "       grad_fn=<BinaryCrossEntropyWithLogitsBackward0>)\n",
            "tensor(0.4274, dtype=torch.float64,\n",
            "       grad_fn=<BinaryCrossEntropyWithLogitsBackward0>)\n",
            "tensor(0.4259, dtype=torch.float64,\n",
            "       grad_fn=<BinaryCrossEntropyWithLogitsBackward0>)\n",
            "tensor(0.4229, dtype=torch.float64,\n",
            "       grad_fn=<BinaryCrossEntropyWithLogitsBackward0>)\n",
            "tensor(0.4207, dtype=torch.float64,\n",
            "       grad_fn=<BinaryCrossEntropyWithLogitsBackward0>)\n",
            "tensor(0.4167, dtype=torch.float64,\n",
            "       grad_fn=<BinaryCrossEntropyWithLogitsBackward0>)\n",
            "tensor(0.4225, dtype=torch.float64,\n",
            "       grad_fn=<BinaryCrossEntropyWithLogitsBackward0>)\n",
            "tensor(0.4231, dtype=torch.float64,\n",
            "       grad_fn=<BinaryCrossEntropyWithLogitsBackward0>)\n",
            "tensor(0.4235, dtype=torch.float64,\n",
            "       grad_fn=<BinaryCrossEntropyWithLogitsBackward0>)\n",
            "tensor(0.4304, dtype=torch.float64,\n",
            "       grad_fn=<BinaryCrossEntropyWithLogitsBackward0>)\n",
            "tensor(0.4328, dtype=torch.float64,\n",
            "       grad_fn=<BinaryCrossEntropyWithLogitsBackward0>)\n",
            "tensor(0.4229, dtype=torch.float64,\n",
            "       grad_fn=<BinaryCrossEntropyWithLogitsBackward0>)\n",
            "tensor(0.4195, dtype=torch.float64,\n",
            "       grad_fn=<BinaryCrossEntropyWithLogitsBackward0>)\n",
            "tensor(0.4213, dtype=torch.float64,\n",
            "       grad_fn=<BinaryCrossEntropyWithLogitsBackward0>)\n",
            "tensor(0.4297, dtype=torch.float64,\n",
            "       grad_fn=<BinaryCrossEntropyWithLogitsBackward0>)\n",
            "tensor(0.4218, dtype=torch.float64,\n",
            "       grad_fn=<BinaryCrossEntropyWithLogitsBackward0>)\n",
            "tensor(0.4228, dtype=torch.float64,\n",
            "       grad_fn=<BinaryCrossEntropyWithLogitsBackward0>)\n",
            "tensor(0.4201, dtype=torch.float64,\n",
            "       grad_fn=<BinaryCrossEntropyWithLogitsBackward0>)\n",
            "tensor(0.4148, dtype=torch.float64,\n",
            "       grad_fn=<BinaryCrossEntropyWithLogitsBackward0>)\n",
            "tensor(0.4158, dtype=torch.float64,\n",
            "       grad_fn=<BinaryCrossEntropyWithLogitsBackward0>)\n",
            "tensor(0.4184, dtype=torch.float64,\n",
            "       grad_fn=<BinaryCrossEntropyWithLogitsBackward0>)\n",
            "tensor(0.4238, dtype=torch.float64,\n",
            "       grad_fn=<BinaryCrossEntropyWithLogitsBackward0>)\n",
            "tensor(0.4171, dtype=torch.float64,\n",
            "       grad_fn=<BinaryCrossEntropyWithLogitsBackward0>)\n"
          ]
        }
      ],
      "source": [
        "# TODO: Train your model on the full dataset here\n",
        "\n",
        "model = train(full_dataset, n_epochs=2)\n",
        "\n",
        "save_model(model)"
      ]
    },
    {
      "cell_type": "markdown",
      "metadata": {
        "id": "b8FfoEKouDkv"
      },
      "source": [
        "## Problem 6: Analyse the embeddings (reflection)"
      ]
    },
    {
      "cell_type": "markdown",
      "metadata": {
        "id": "eSqeNSteuDkv"
      },
      "source": [
        "Now that you have a trained model, you will probably be curious to see what it has learned. You can inspect your embeddings using the [Embedding Projector](http://projector.tensorflow.org). To that end, click on the ‘Load’ button, which will open up a dialogue with instructions for how to upload embeddings from your computer.\n",
        "\n",
        "You will need to upload two tab-separated files. To create them, you can use the following code:"
      ]
    },
    {
      "cell_type": "code",
      "execution_count": null,
      "metadata": {
        "id": "D6DmPH5cuDkv"
      },
      "outputs": [],
      "source": [
        "def save_model(model):\n",
        "    # Extract the embedding vectors as a NumPy array\n",
        "    embeddings = model.w.weight.detach().numpy()\n",
        "\n",
        "    # Create the word–vector pairs\n",
        "    items = sorted((i, w) for w, i in model.vocab.items())\n",
        "    items = [(w, e) for (i, w), e in zip(items, embeddings)]\n",
        "\n",
        "    # Write the embeddings and the word labels to files\n",
        "    with open('vectors.tsv', 'wt') as fp1, open('metadata.tsv', 'wt') as fp2:\n",
        "        for w, e in items:\n",
        "            print('\\t'.join('{:.5f}'.format(x) for x in e), file=fp1)\n",
        "            print(w, file=fp2)"
      ]
    },
    {
      "cell_type": "markdown",
      "metadata": {
        "id": "BE9eBYyeuDkv"
      },
      "source": [
        "Take some time to explore the embedding space. In particular, inspect the local neighbourhoods of words that you are curious about, say the 10 closest neighbours. Document your exploration in a short reflection piece (ca. 150&nbsp;words). Respond to the following prompts:\n",
        "\n",
        "* Which words did you try? Which results did you get? Did you do anything else than inspecting local neighbourhoods?\n",
        "* Based on what you know about word embeddings, did you expect your results? How do you explain them?\n",
        "* What did you learn? How, exactly, did you learn it? Why does this learning matter?"
      ]
    },
    {
      "cell_type": "markdown",
      "metadata": {
        "id": "eiQF_2tnuDkw"
      },
      "source": [
        "We tried the following words in the data:\n",
        "- english, then we got \"language, danish, chinese, norwegian, italian, french, speaking, spelling, dutch, finnish\". These are all words that corresponds to other languages.\n",
        "- sport, then we got \"competing, competition, team, competetive, federation, skiing, international, european, association, sport\". Also words that we did expect.\n",
        "\n",
        "We did expect our results, as we had a large vocabulary it meant that the model had an easier time to find words that are more similar. In this lab we have learned that it is import to code in a effecient way since we worked with a large dataset. We tried to speed up the running time as much as possible but now it takes 25 minutes per epoch to run the training.\n",
        "\n"
      ]
    },
    {
      "cell_type": "markdown",
      "metadata": {
        "id": "j1utfyo1uDkw"
      },
      "source": [
        "👍 Well done!"
      ]
    }
  ],
  "metadata": {
    "colab": {
      "provenance": []
    },
    "kernelspec": {
      "display_name": "base",
      "language": "python",
      "name": "python3"
    },
    "language_info": {
      "codemirror_mode": {
        "name": "ipython",
        "version": 3
      },
      "file_extension": ".py",
      "mimetype": "text/x-python",
      "name": "python",
      "nbconvert_exporter": "python",
      "pygments_lexer": "ipython3",
      "version": "3.9.13"
    },
    "vscode": {
      "interpreter": {
        "hash": "bc4f814e20d2cdb5e8caf0ef02463404b82d6e3db2c0d492b8361026ca4ccbb2"
      }
    },
    "accelerator": "GPU",
    "gpuClass": "standard"
  },
  "nbformat": 4,
  "nbformat_minor": 0
}